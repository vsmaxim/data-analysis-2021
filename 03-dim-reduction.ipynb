{
 "cells": [
  {
   "cell_type": "code",
   "execution_count": 15,
   "id": "designed-granny",
   "metadata": {},
   "outputs": [],
   "source": [
    "import pandas as pd\n",
    "import numpy as np\n",
    "from scipy.sparse import csr_matrix\n",
    "from sklearn.decomposition import TruncatedSVD\n",
    "from sklearn.neighbors import NearestNeighbors\n",
    "from sklearn.manifold import MDS, Isomap\n",
    "from sklearn.decomposition import PCA\n",
    "import pickle"
   ]
  },
  {
   "cell_type": "code",
   "execution_count": 16,
   "id": "sitting-bibliography",
   "metadata": {},
   "outputs": [],
   "source": [
    "df = pd.read_csv(\"data/IMDb title_principals.csv\")"
   ]
  },
  {
   "cell_type": "code",
   "execution_count": 17,
   "id": "405bbd13",
   "metadata": {},
   "outputs": [
    {
     "data": {
      "text/plain": [
       "835513"
      ]
     },
     "execution_count": 17,
     "metadata": {},
     "output_type": "execute_result"
    }
   ],
   "source": [
    "len(df)"
   ]
  },
  {
   "cell_type": "code",
   "execution_count": 18,
   "id": "attended-canon",
   "metadata": {},
   "outputs": [],
   "source": [
    "import os\n",
    "\n",
    "def run_or_load_pickle(pickle_path: str):\n",
    "    def decorator(fn):\n",
    "        def wrapped_fn():\n",
    "            if os.path.exists(pickle_path):\n",
    "                with open(pickle_path, \"rb\") as fd:\n",
    "                    return pickle.load(fd)\n",
    "            else:\n",
    "                res = fn()\n",
    "                with open(pickle_path, \"wb\") as fd:\n",
    "                    pickle.dump(res, fd)\n",
    "                return res\n",
    "        return wrapped_fn\n",
    "    return decorator"
   ]
  },
  {
   "cell_type": "code",
   "execution_count": 19,
   "id": "seven-sharp",
   "metadata": {},
   "outputs": [
    {
     "name": "stdout",
     "output_type": "stream",
     "text": [
      "Film-People correspondance matrix is: 85848 x 297706\n"
     ]
    }
   ],
   "source": [
    "film_to_id = {film: index for index, film in enumerate(set(df[\"imdb_title_id\"]))}\n",
    "person_to_id = {person: index for index, person in enumerate(set(df[\"imdb_name_id\"]))}\n",
    "print(f\"Film-People correspondance matrix is: {len(film_to_id)} x {len(person_to_id)}\")"
   ]
  },
  {
   "cell_type": "code",
   "execution_count": 21,
   "id": "eligible-connecticut",
   "metadata": {},
   "outputs": [],
   "source": [
    "rows = []\n",
    "cols = []\n",
    "data = []\n",
    "\n",
    "for _, row in df.iterrows():\n",
    "    title_id = film_to_id[row[\"imdb_title_id\"]]\n",
    "    person_id = person_to_id[row[\"imdb_name_id\"]]\n",
    "    rows.append(title_id)\n",
    "    cols.append(person_id)\n",
    "    data.append(1)"
   ]
  },
  {
   "cell_type": "code",
   "execution_count": 22,
   "id": "dominant-horizon",
   "metadata": {},
   "outputs": [],
   "source": [
    "cc_matrix = csr_matrix((data, (rows, cols)), shape=(len(film_to_id), len(person_to_id)))\n",
    "del rows\n",
    "del cols\n",
    "del data"
   ]
  },
  {
   "cell_type": "code",
   "execution_count": 23,
   "id": "expensive-pride",
   "metadata": {},
   "outputs": [],
   "source": [
    "@run_or_load_pickle(\"svd_matrix.pkl\")\n",
    "def construct_svd():\n",
    "    svd_n_components = 300\n",
    "    return TruncatedSVD(svd_n_components).fit_transform(cc_matrix)\n",
    "\n",
    "svd_reduced_matrix = construct_svd()"
   ]
  },
  {
   "cell_type": "code",
   "execution_count": 24,
   "id": "2f69850f",
   "metadata": {},
   "outputs": [
    {
     "data": {
      "text/plain": [
       "(85848, 300)"
      ]
     },
     "execution_count": 24,
     "metadata": {},
     "output_type": "execute_result"
    }
   ],
   "source": [
    "svd_reduced_matrix.shape"
   ]
  },
  {
   "cell_type": "code",
   "execution_count": 25,
   "id": "demonstrated-vegetarian",
   "metadata": {},
   "outputs": [],
   "source": [
    "# PCA\n",
    "@run_or_load_pickle(\"pca_matrix_100.pkl\")\n",
    "def construct_pca_from_svd():\n",
    "    pca = PCA(n_components=100)\n",
    "    return pca.fit_transform(svd_reduced_matrix)\n",
    "\n",
    "pca_reduced_matrix = construct_pca_from_svd()\n",
    "id_to_film = {v: k for k, v in film_to_id.items()}\n",
    "\n",
    "with open(\"pca_vectors\", \"w\") as fd:\n",
    "    for i, vector in enumerate(pca_reduced_matrix):\n",
    "        fd.write(f\"{id_to_film[i]}, {list(vector)}\\n\")"
   ]
  },
  {
   "cell_type": "code",
   "execution_count": 26,
   "id": "b3dcb30b",
   "metadata": {},
   "outputs": [
    {
     "data": {
      "text/plain": [
       "85848"
      ]
     },
     "execution_count": 26,
     "metadata": {},
     "output_type": "execute_result"
    }
   ],
   "source": [
    "len(id_to_film)"
   ]
  },
  {
   "cell_type": "code",
   "execution_count": 27,
   "id": "novel-champion",
   "metadata": {},
   "outputs": [
    {
     "ename": "MemoryError",
     "evalue": "Unable to allocate 54.9 GiB for an array with shape (85848, 85848) and data type float64",
     "output_type": "error",
     "traceback": [
      "\u001b[1;31m---------------------------------------------------------------------------\u001b[0m",
      "\u001b[1;31mMemoryError\u001b[0m                               Traceback (most recent call last)",
      "\u001b[1;32m<ipython-input-27-01295ab88f03>\u001b[0m in \u001b[0;36m<module>\u001b[1;34m\u001b[0m\n\u001b[0;32m      5\u001b[0m     \u001b[1;32mreturn\u001b[0m \u001b[0mmds\u001b[0m\u001b[1;33m.\u001b[0m\u001b[0mfit_transform\u001b[0m\u001b[1;33m(\u001b[0m\u001b[0msvd_reduced_matrix\u001b[0m\u001b[1;33m)\u001b[0m\u001b[1;33m\u001b[0m\u001b[1;33m\u001b[0m\u001b[0m\n\u001b[0;32m      6\u001b[0m \u001b[1;33m\u001b[0m\u001b[0m\n\u001b[1;32m----> 7\u001b[1;33m \u001b[0mmds_vectors\u001b[0m \u001b[1;33m=\u001b[0m \u001b[0mconstruct_mds_matrix_from_svd\u001b[0m\u001b[1;33m(\u001b[0m\u001b[1;33m)\u001b[0m\u001b[1;33m\u001b[0m\u001b[1;33m\u001b[0m\u001b[0m\n\u001b[0m",
      "\u001b[1;32m<ipython-input-18-736e8f29dd01>\u001b[0m in \u001b[0;36mwrapped_fn\u001b[1;34m()\u001b[0m\n\u001b[0;32m      8\u001b[0m                     \u001b[1;32mreturn\u001b[0m \u001b[0mpickle\u001b[0m\u001b[1;33m.\u001b[0m\u001b[0mload\u001b[0m\u001b[1;33m(\u001b[0m\u001b[0mfd\u001b[0m\u001b[1;33m)\u001b[0m\u001b[1;33m\u001b[0m\u001b[1;33m\u001b[0m\u001b[0m\n\u001b[0;32m      9\u001b[0m             \u001b[1;32melse\u001b[0m\u001b[1;33m:\u001b[0m\u001b[1;33m\u001b[0m\u001b[1;33m\u001b[0m\u001b[0m\n\u001b[1;32m---> 10\u001b[1;33m                 \u001b[0mres\u001b[0m \u001b[1;33m=\u001b[0m \u001b[0mfn\u001b[0m\u001b[1;33m(\u001b[0m\u001b[1;33m)\u001b[0m\u001b[1;33m\u001b[0m\u001b[1;33m\u001b[0m\u001b[0m\n\u001b[0m\u001b[0;32m     11\u001b[0m                 \u001b[1;32mwith\u001b[0m \u001b[0mopen\u001b[0m\u001b[1;33m(\u001b[0m\u001b[0mpickle_path\u001b[0m\u001b[1;33m,\u001b[0m \u001b[1;34m\"wb\"\u001b[0m\u001b[1;33m)\u001b[0m \u001b[1;32mas\u001b[0m \u001b[0mfd\u001b[0m\u001b[1;33m:\u001b[0m\u001b[1;33m\u001b[0m\u001b[1;33m\u001b[0m\u001b[0m\n\u001b[0;32m     12\u001b[0m                     \u001b[0mpickle\u001b[0m\u001b[1;33m.\u001b[0m\u001b[0mdump\u001b[0m\u001b[1;33m(\u001b[0m\u001b[0mres\u001b[0m\u001b[1;33m,\u001b[0m \u001b[0mfd\u001b[0m\u001b[1;33m)\u001b[0m\u001b[1;33m\u001b[0m\u001b[1;33m\u001b[0m\u001b[0m\n",
      "\u001b[1;32m<ipython-input-27-01295ab88f03>\u001b[0m in \u001b[0;36mconstruct_mds_matrix_from_svd\u001b[1;34m()\u001b[0m\n\u001b[0;32m      3\u001b[0m \u001b[1;32mdef\u001b[0m \u001b[0mconstruct_mds_matrix_from_svd\u001b[0m\u001b[1;33m(\u001b[0m\u001b[1;33m)\u001b[0m\u001b[1;33m:\u001b[0m\u001b[1;33m\u001b[0m\u001b[1;33m\u001b[0m\u001b[0m\n\u001b[0;32m      4\u001b[0m     \u001b[0mmds\u001b[0m \u001b[1;33m=\u001b[0m \u001b[0mMDS\u001b[0m\u001b[1;33m(\u001b[0m\u001b[0mn_components\u001b[0m\u001b[1;33m=\u001b[0m\u001b[1;36m50\u001b[0m\u001b[1;33m)\u001b[0m\u001b[1;33m\u001b[0m\u001b[1;33m\u001b[0m\u001b[0m\n\u001b[1;32m----> 5\u001b[1;33m     \u001b[1;32mreturn\u001b[0m \u001b[0mmds\u001b[0m\u001b[1;33m.\u001b[0m\u001b[0mfit_transform\u001b[0m\u001b[1;33m(\u001b[0m\u001b[0msvd_reduced_matrix\u001b[0m\u001b[1;33m)\u001b[0m\u001b[1;33m\u001b[0m\u001b[1;33m\u001b[0m\u001b[0m\n\u001b[0m\u001b[0;32m      6\u001b[0m \u001b[1;33m\u001b[0m\u001b[0m\n\u001b[0;32m      7\u001b[0m \u001b[0mmds_vectors\u001b[0m \u001b[1;33m=\u001b[0m \u001b[0mconstruct_mds_matrix_from_svd\u001b[0m\u001b[1;33m(\u001b[0m\u001b[1;33m)\u001b[0m\u001b[1;33m\u001b[0m\u001b[1;33m\u001b[0m\u001b[0m\n",
      "\u001b[1;32mc:\\users\\vsmaxim8\\appdata\\local\\pypoetry\\cache\\virtualenvs\\data-analysis-2021-qihzqfsf-py3.9\\lib\\site-packages\\sklearn\\manifold\\_mds.py\u001b[0m in \u001b[0;36mfit_transform\u001b[1;34m(self, X, y, init)\u001b[0m\n\u001b[0;32m    447\u001b[0m             \u001b[0mself\u001b[0m\u001b[1;33m.\u001b[0m\u001b[0mdissimilarity_matrix_\u001b[0m \u001b[1;33m=\u001b[0m \u001b[0mX\u001b[0m\u001b[1;33m\u001b[0m\u001b[1;33m\u001b[0m\u001b[0m\n\u001b[0;32m    448\u001b[0m         \u001b[1;32melif\u001b[0m \u001b[0mself\u001b[0m\u001b[1;33m.\u001b[0m\u001b[0mdissimilarity\u001b[0m \u001b[1;33m==\u001b[0m \u001b[1;34m\"euclidean\"\u001b[0m\u001b[1;33m:\u001b[0m\u001b[1;33m\u001b[0m\u001b[1;33m\u001b[0m\u001b[0m\n\u001b[1;32m--> 449\u001b[1;33m             \u001b[0mself\u001b[0m\u001b[1;33m.\u001b[0m\u001b[0mdissimilarity_matrix_\u001b[0m \u001b[1;33m=\u001b[0m \u001b[0meuclidean_distances\u001b[0m\u001b[1;33m(\u001b[0m\u001b[0mX\u001b[0m\u001b[1;33m)\u001b[0m\u001b[1;33m\u001b[0m\u001b[1;33m\u001b[0m\u001b[0m\n\u001b[0m\u001b[0;32m    450\u001b[0m         \u001b[1;32melse\u001b[0m\u001b[1;33m:\u001b[0m\u001b[1;33m\u001b[0m\u001b[1;33m\u001b[0m\u001b[0m\n\u001b[0;32m    451\u001b[0m             raise ValueError(\"Proximity must be 'precomputed' or 'euclidean'.\"\n",
      "\u001b[1;32mc:\\users\\vsmaxim8\\appdata\\local\\pypoetry\\cache\\virtualenvs\\data-analysis-2021-qihzqfsf-py3.9\\lib\\site-packages\\sklearn\\utils\\validation.py\u001b[0m in \u001b[0;36minner_f\u001b[1;34m(*args, **kwargs)\u001b[0m\n\u001b[0;32m     61\u001b[0m             \u001b[0mextra_args\u001b[0m \u001b[1;33m=\u001b[0m \u001b[0mlen\u001b[0m\u001b[1;33m(\u001b[0m\u001b[0margs\u001b[0m\u001b[1;33m)\u001b[0m \u001b[1;33m-\u001b[0m \u001b[0mlen\u001b[0m\u001b[1;33m(\u001b[0m\u001b[0mall_args\u001b[0m\u001b[1;33m)\u001b[0m\u001b[1;33m\u001b[0m\u001b[1;33m\u001b[0m\u001b[0m\n\u001b[0;32m     62\u001b[0m             \u001b[1;32mif\u001b[0m \u001b[0mextra_args\u001b[0m \u001b[1;33m<=\u001b[0m \u001b[1;36m0\u001b[0m\u001b[1;33m:\u001b[0m\u001b[1;33m\u001b[0m\u001b[1;33m\u001b[0m\u001b[0m\n\u001b[1;32m---> 63\u001b[1;33m                 \u001b[1;32mreturn\u001b[0m \u001b[0mf\u001b[0m\u001b[1;33m(\u001b[0m\u001b[1;33m*\u001b[0m\u001b[0margs\u001b[0m\u001b[1;33m,\u001b[0m \u001b[1;33m**\u001b[0m\u001b[0mkwargs\u001b[0m\u001b[1;33m)\u001b[0m\u001b[1;33m\u001b[0m\u001b[1;33m\u001b[0m\u001b[0m\n\u001b[0m\u001b[0;32m     64\u001b[0m \u001b[1;33m\u001b[0m\u001b[0m\n\u001b[0;32m     65\u001b[0m             \u001b[1;31m# extra_args > 0\u001b[0m\u001b[1;33m\u001b[0m\u001b[1;33m\u001b[0m\u001b[1;33m\u001b[0m\u001b[0m\n",
      "\u001b[1;32mc:\\users\\vsmaxim8\\appdata\\local\\pypoetry\\cache\\virtualenvs\\data-analysis-2021-qihzqfsf-py3.9\\lib\\site-packages\\sklearn\\metrics\\pairwise.py\u001b[0m in \u001b[0;36meuclidean_distances\u001b[1;34m(X, Y, Y_norm_squared, squared, X_norm_squared)\u001b[0m\n\u001b[0;32m    311\u001b[0m     \u001b[1;32melse\u001b[0m\u001b[1;33m:\u001b[0m\u001b[1;33m\u001b[0m\u001b[1;33m\u001b[0m\u001b[0m\n\u001b[0;32m    312\u001b[0m         \u001b[1;31m# if dtype is already float64, no need to chunk and upcast\u001b[0m\u001b[1;33m\u001b[0m\u001b[1;33m\u001b[0m\u001b[1;33m\u001b[0m\u001b[0m\n\u001b[1;32m--> 313\u001b[1;33m         \u001b[0mdistances\u001b[0m \u001b[1;33m=\u001b[0m \u001b[1;33m-\u001b[0m \u001b[1;36m2\u001b[0m \u001b[1;33m*\u001b[0m \u001b[0msafe_sparse_dot\u001b[0m\u001b[1;33m(\u001b[0m\u001b[0mX\u001b[0m\u001b[1;33m,\u001b[0m \u001b[0mY\u001b[0m\u001b[1;33m.\u001b[0m\u001b[0mT\u001b[0m\u001b[1;33m,\u001b[0m \u001b[0mdense_output\u001b[0m\u001b[1;33m=\u001b[0m\u001b[1;32mTrue\u001b[0m\u001b[1;33m)\u001b[0m\u001b[1;33m\u001b[0m\u001b[1;33m\u001b[0m\u001b[0m\n\u001b[0m\u001b[0;32m    314\u001b[0m         \u001b[0mdistances\u001b[0m \u001b[1;33m+=\u001b[0m \u001b[0mXX\u001b[0m\u001b[1;33m\u001b[0m\u001b[1;33m\u001b[0m\u001b[0m\n\u001b[0;32m    315\u001b[0m         \u001b[0mdistances\u001b[0m \u001b[1;33m+=\u001b[0m \u001b[0mYY\u001b[0m\u001b[1;33m\u001b[0m\u001b[1;33m\u001b[0m\u001b[0m\n",
      "\u001b[1;32mc:\\users\\vsmaxim8\\appdata\\local\\pypoetry\\cache\\virtualenvs\\data-analysis-2021-qihzqfsf-py3.9\\lib\\site-packages\\sklearn\\utils\\validation.py\u001b[0m in \u001b[0;36minner_f\u001b[1;34m(*args, **kwargs)\u001b[0m\n\u001b[0;32m     61\u001b[0m             \u001b[0mextra_args\u001b[0m \u001b[1;33m=\u001b[0m \u001b[0mlen\u001b[0m\u001b[1;33m(\u001b[0m\u001b[0margs\u001b[0m\u001b[1;33m)\u001b[0m \u001b[1;33m-\u001b[0m \u001b[0mlen\u001b[0m\u001b[1;33m(\u001b[0m\u001b[0mall_args\u001b[0m\u001b[1;33m)\u001b[0m\u001b[1;33m\u001b[0m\u001b[1;33m\u001b[0m\u001b[0m\n\u001b[0;32m     62\u001b[0m             \u001b[1;32mif\u001b[0m \u001b[0mextra_args\u001b[0m \u001b[1;33m<=\u001b[0m \u001b[1;36m0\u001b[0m\u001b[1;33m:\u001b[0m\u001b[1;33m\u001b[0m\u001b[1;33m\u001b[0m\u001b[0m\n\u001b[1;32m---> 63\u001b[1;33m                 \u001b[1;32mreturn\u001b[0m \u001b[0mf\u001b[0m\u001b[1;33m(\u001b[0m\u001b[1;33m*\u001b[0m\u001b[0margs\u001b[0m\u001b[1;33m,\u001b[0m \u001b[1;33m**\u001b[0m\u001b[0mkwargs\u001b[0m\u001b[1;33m)\u001b[0m\u001b[1;33m\u001b[0m\u001b[1;33m\u001b[0m\u001b[0m\n\u001b[0m\u001b[0;32m     64\u001b[0m \u001b[1;33m\u001b[0m\u001b[0m\n\u001b[0;32m     65\u001b[0m             \u001b[1;31m# extra_args > 0\u001b[0m\u001b[1;33m\u001b[0m\u001b[1;33m\u001b[0m\u001b[1;33m\u001b[0m\u001b[0m\n",
      "\u001b[1;32mc:\\users\\vsmaxim8\\appdata\\local\\pypoetry\\cache\\virtualenvs\\data-analysis-2021-qihzqfsf-py3.9\\lib\\site-packages\\sklearn\\utils\\extmath.py\u001b[0m in \u001b[0;36msafe_sparse_dot\u001b[1;34m(a, b, dense_output)\u001b[0m\n\u001b[0;32m    150\u001b[0m             \u001b[0mret\u001b[0m \u001b[1;33m=\u001b[0m \u001b[0mnp\u001b[0m\u001b[1;33m.\u001b[0m\u001b[0mdot\u001b[0m\u001b[1;33m(\u001b[0m\u001b[0ma\u001b[0m\u001b[1;33m,\u001b[0m \u001b[0mb\u001b[0m\u001b[1;33m)\u001b[0m\u001b[1;33m\u001b[0m\u001b[1;33m\u001b[0m\u001b[0m\n\u001b[0;32m    151\u001b[0m     \u001b[1;32melse\u001b[0m\u001b[1;33m:\u001b[0m\u001b[1;33m\u001b[0m\u001b[1;33m\u001b[0m\u001b[0m\n\u001b[1;32m--> 152\u001b[1;33m         \u001b[0mret\u001b[0m \u001b[1;33m=\u001b[0m \u001b[0ma\u001b[0m \u001b[1;33m@\u001b[0m \u001b[0mb\u001b[0m\u001b[1;33m\u001b[0m\u001b[1;33m\u001b[0m\u001b[0m\n\u001b[0m\u001b[0;32m    153\u001b[0m \u001b[1;33m\u001b[0m\u001b[0m\n\u001b[0;32m    154\u001b[0m     if (sparse.issparse(a) and sparse.issparse(b)\n",
      "\u001b[1;31mMemoryError\u001b[0m: Unable to allocate 54.9 GiB for an array with shape (85848, 85848) and data type float64"
     ]
    }
   ],
   "source": [
    "# MDS\n",
    "@run_or_load_pickle(\"mds_matrix.pkl\")\n",
    "def construct_mds_matrix_from_svd():\n",
    "    mds = MDS(n_components=50)\n",
    "    return mds.fit_transform(svd_reduced_matrix)\n",
    "\n",
    "mds_vectors = construct_mds_matrix_from_svd()"
   ]
  },
  {
   "cell_type": "code",
   "execution_count": 28,
   "id": "advised-element",
   "metadata": {},
   "outputs": [],
   "source": [
    "def read_vectors(file: str):\n",
    "    result = {}\n",
    "\n",
    "    with open(file, \"r\") as fd:\n",
    "        for line in fd:\n",
    "            line = line.strip()\n",
    "            film_id = line[:9]\n",
    "            vector = np.array(eval(line[11:]))\n",
    "            result[film_id] = vector\n",
    "    return result"
   ]
  },
  {
   "cell_type": "code",
   "execution_count": 29,
   "id": "aware-ladder",
   "metadata": {},
   "outputs": [],
   "source": [
    "pca_vectors = read_vectors(\"pca_vectors\")"
   ]
  },
  {
   "cell_type": "code",
   "execution_count": 30,
   "id": "brief-fitness",
   "metadata": {},
   "outputs": [],
   "source": [
    "ft_vectors = read_vectors(\"fasttext-vecs\")"
   ]
  },
  {
   "cell_type": "code",
   "execution_count": 31,
   "id": "8b5543d9",
   "metadata": {},
   "outputs": [
    {
     "data": {
      "text/plain": [
       "85831"
      ]
     },
     "execution_count": 31,
     "metadata": {},
     "output_type": "execute_result"
    }
   ],
   "source": [
    "len(pca_vectors)"
   ]
  },
  {
   "cell_type": "code",
   "execution_count": 32,
   "id": "96edb542",
   "metadata": {},
   "outputs": [
    {
     "data": {
      "text/plain": [
       "83726"
      ]
     },
     "execution_count": 32,
     "metadata": {},
     "output_type": "execute_result"
    }
   ],
   "source": [
    "len(ft_vectors)"
   ]
  },
  {
   "cell_type": "code",
   "execution_count": 34,
   "id": "dd7fd3fd",
   "metadata": {},
   "outputs": [
    {
     "data": {
      "text/plain": [
       "(0.19900813544405369, 14.385001867252393, 1.3503293371954248)"
      ]
     },
     "execution_count": 34,
     "metadata": {},
     "output_type": "execute_result"
    }
   ],
   "source": [
    "min_pca_dist = 100\n",
    "max_pca_dist = -1\n",
    "\n",
    "random_key = \"tt0000009\"\n",
    "dist_sum = 0\n",
    "\n",
    "for k, v in pca_vectors.items():\n",
    "    if k == random_key:\n",
    "        continue\n",
    "    dist = np.linalg.norm(5 * pca_vectors[random_key] - 5 * v)\n",
    "    dist_sum += dist\n",
    "    \n",
    "    if dist > max_pca_dist:\n",
    "        max_pca_dist = dist\n",
    "    elif dist < min_pca_dist:\n",
    "        min_pca_dist = dist\n",
    "\n",
    "(min_pca_dist, max_pca_dist, dist_sum / len(pca_vectors.keys()))"
   ]
  },
  {
   "cell_type": "code",
   "execution_count": 35,
   "id": "7b805e20",
   "metadata": {},
   "outputs": [
    {
     "data": {
      "text/plain": [
       "2.665364904948882"
      ]
     },
     "execution_count": 35,
     "metadata": {},
     "output_type": "execute_result"
    }
   ],
   "source": [
    "np.linalg.norm(ft_vectors[\"tt0000009\"] - ft_vectors[\"tt0006688\"])"
   ]
  },
  {
   "cell_type": "markdown",
   "id": "71b26971",
   "metadata": {},
   "source": [
    "min, max, mean  \n",
    "pca_vectors - (0.21711308040945065, 2.899750199701518, 0.44720423651610886)  \n",
    "fasttext_vectors - (1.3741962733866349, 10.816168600184021, 2.694827573044851)"
   ]
  },
  {
   "cell_type": "code",
   "execution_count": 36,
   "id": "6677a6e7",
   "metadata": {},
   "outputs": [],
   "source": [
    "common_keys = set(ft_vectors.keys()) & set(pca_vectors.keys())"
   ]
  },
  {
   "cell_type": "code",
   "execution_count": 40,
   "id": "38515039",
   "metadata": {},
   "outputs": [
    {
     "name": "stdout",
     "output_type": "stream",
     "text": [
      "[ 2.92618720e-01  1.98684250e-01 -3.11834370e-01 -3.03028020e-01\n",
      "  3.35028800e-01  2.63366640e-01 -1.54859570e-01  2.31655080e-01\n",
      "  1.77757040e-01 -2.40785030e-01  7.17355400e-02 -3.27741130e-02\n",
      " -1.83749880e-01 -1.50687350e-01 -1.05583206e-01  7.09494050e-02\n",
      " -2.14024860e-02 -3.27468520e-03 -5.88776700e-03  9.45766700e-02\n",
      " -2.82795100e-01 -4.72205300e-03 -1.92129920e-01 -2.16942270e-01\n",
      " -4.41602800e-01 -2.00733960e-01 -6.92403900e-02  2.03183380e-01\n",
      "  1.22237390e-02  2.07359570e-01 -2.00125950e-01 -4.52278620e-05\n",
      "  2.59832920e-01 -1.00132440e-01  4.09158860e-01  1.29064170e-01\n",
      "  1.84345890e-01 -3.31474650e-02  2.14008780e-01  1.98372480e-01\n",
      " -8.18588400e-02 -1.32584570e-01  1.25983950e-01  2.24660260e-01\n",
      " -9.02927740e-02 -2.19351320e-01  1.46017490e-01 -1.16165526e-01\n",
      "  6.04518840e-02 -1.49927530e-01  2.84777020e-01  4.70613400e-01\n",
      " -3.35367140e-01  4.56147270e-02  1.60021100e-01 -1.12727920e-01\n",
      " -6.04105670e-02 -6.62006500e-02  1.36781450e-01  4.38758050e-01\n",
      " -1.52980720e-01 -1.08504385e-01 -5.19777130e-02  2.73489500e-02\n",
      " -5.31197560e-02 -1.19510695e-01 -1.46242410e-01 -1.63506210e-01\n",
      "  2.38628250e-01  1.54258850e-01  1.61914320e-01 -3.58220230e-02\n",
      "  6.73821340e-02 -1.11763000e-01 -2.54380550e-01  2.18146520e-02\n",
      " -1.23545230e-01 -7.78271560e-02  8.46749800e-02 -7.93579440e-02\n",
      " -1.39584060e-01  2.65122230e-01  1.92810390e-02  2.11346150e-01\n",
      "  8.52865060e-02  2.22075730e-01 -3.24393700e-01 -2.00674220e-01\n",
      " -2.57316300e-01 -2.62148800e-01 -3.65149140e-01 -4.99343100e-02\n",
      "  1.56959830e-01  7.11831600e-03  2.41224500e-01 -3.42516640e-02\n",
      " -9.77364679e-03 -1.58948522e-02  3.67094246e-04 -5.08516660e-02\n",
      " -1.96521916e-02 -1.09660236e-01 -2.30708028e-03 -1.84019144e-02\n",
      " -8.81095489e-03 -7.47722889e-02 -8.65599558e-04 -3.49883958e-02\n",
      " -4.11639370e-02  1.83124053e-02  9.90728605e-03 -4.54564084e-02\n",
      " -6.72135164e-03 -6.31049412e-02  2.59057118e-02 -1.39010915e-02\n",
      "  1.42595867e-02  5.40313778e-03 -2.70635094e-02  1.73788569e-02\n",
      " -2.25303979e-02  5.97792481e-02 -1.41418154e-03  3.43275161e-02\n",
      "  7.29826252e-03 -3.05748342e-02  6.27254506e-03 -8.76422189e-03\n",
      " -5.66261241e-03 -5.28042975e-02 -1.74132631e-02 -1.77374084e-02\n",
      "  2.83517550e-03  1.71495001e-02 -2.38695940e-02 -3.98232715e-03\n",
      "  2.06006876e-02  4.95338540e-03  6.62833550e-02  1.05816157e-02\n",
      " -1.86859275e-02 -9.47100815e-02  2.08969299e-02  5.60081026e-02\n",
      "  1.38971096e-03  2.75315973e-02 -1.00576703e-02 -9.00122618e-03\n",
      "  3.83595087e-02 -1.53750453e-02  3.94168996e-02 -3.40592117e-02\n",
      "  1.22790314e-02  6.05981141e-02 -7.59272956e-03 -5.89117472e-03\n",
      "  5.56129753e-02 -5.98769904e-02  6.75152021e-02  4.79714048e-02\n",
      " -5.01787049e-02 -5.95575355e-03  9.96367910e-02  2.40927749e-02\n",
      "  6.83550444e-02 -2.74538583e-02 -6.85733500e-02 -8.01946353e-02\n",
      "  3.48174624e-02 -1.43856199e-02 -1.02047064e-01  8.78974738e-03\n",
      "  5.44296575e-02  1.56206384e-02  6.93887125e-02  3.73184014e-02\n",
      "  3.75946149e-02  6.50698016e-02  4.95564028e-02 -2.46189844e-02\n",
      "  1.33413460e-02 -1.65992933e-02  6.77711773e-02  8.53386213e-02\n",
      "  4.14374443e-02 -1.80604695e-02 -1.14819325e-01 -1.10558630e-02\n",
      "  9.76616429e-02 -2.65268217e-02 -8.24929508e-02 -6.18590865e-02\n",
      "  3.24414660e-02 -1.51871198e-01 -3.29572453e-02 -1.81437113e-02]\n"
     ]
    }
   ],
   "source": [
    "concated_vectors = {k: np.concatenate((ft_vectors[k], pca_vectors[k] * 7)) for k in common_keys}\n",
    "print(list(concated_vectors.values())[0])\n",
    "\n",
    "with open(\"concated_vectors\", \"w\") as fd:\n",
    "    for i, vector in enumerate(pca_reduced_matrix):\n",
    "        fd.write(f\"{id_to_film[i]}, {list(vector)}\\n\")"
   ]
  },
  {
   "cell_type": "code",
   "execution_count": 247,
   "id": "100507d9",
   "metadata": {},
   "outputs": [],
   "source": [
    "cc_film_ids = []\n",
    "cc_film_vecs = []\n",
    "\n",
    "for k, v in concated_vectors.items():\n",
    "    cc_film_ids.append(k)\n",
    "    cc_film_vecs.append(v)\n",
    "\n",
    "cc_film_vecs = np.array(cc_film_vecs)"
   ]
  },
  {
   "cell_type": "code",
   "execution_count": 248,
   "id": "db264b98",
   "metadata": {},
   "outputs": [
    {
     "name": "stderr",
     "output_type": "stream",
     "text": [
      "c:\\users\\vsmaxim8\\appdata\\local\\pypoetry\\cache\\virtualenvs\\data-analysis-2021-qihzqfsf-py3.9\\lib\\site-packages\\IPython\\core\\interactiveshell.py:3169: DtypeWarning: Columns (3) have mixed types.Specify dtype option on import or set low_memory=False.\n",
      "  has_raised = await self.run_ast_nodes(code_ast.body, cell_name,\n"
     ]
    }
   ],
   "source": [
    "name_to_id = {}\n",
    "id_to_name = {}\n",
    "id_to_ind = {film_id: i for i, film_id in enumerate(cc_film_ids)}\n",
    "\n",
    "names_df = pd.read_csv(\"data/IMDb movies.csv\")\n",
    "\n",
    "for k, row in names_df.iterrows():\n",
    "    id_to_name[row[\"imdb_title_id\"]] = row[\"title\"]\n",
    "    name_to_id[row[\"title\"]] = row[\"imdb_title_id\"]"
   ]
  },
  {
   "cell_type": "code",
   "execution_count": 249,
   "id": "9fc45314",
   "metadata": {},
   "outputs": [
    {
     "data": {
      "text/plain": [
       "NearestNeighbors(n_neighbors=10)"
      ]
     },
     "execution_count": 249,
     "metadata": {},
     "output_type": "execute_result"
    }
   ],
   "source": [
    "from sklearn.neighbors import NearestNeighbors\n",
    "\n",
    "neighbors = NearestNeighbors(n_neighbors=10)\n",
    "neighbors.fit(cc_film_vecs)"
   ]
  },
  {
   "cell_type": "code",
   "execution_count": 250,
   "id": "134d6b65",
   "metadata": {},
   "outputs": [
    {
     "data": {
      "text/plain": [
       "83717"
      ]
     },
     "execution_count": 250,
     "metadata": {},
     "output_type": "execute_result"
    }
   ],
   "source": [
    "len(cc_film_vecs)"
   ]
  },
  {
   "cell_type": "code",
   "execution_count": 251,
   "id": "95e435d3",
   "metadata": {},
   "outputs": [
    {
     "data": {
      "text/plain": [
       "array([[41189, 71455, 77521, 50525, 48889, 42029, 17223, 24807,  3689,\n",
       "        34138]], dtype=int64)"
      ]
     },
     "execution_count": 251,
     "metadata": {},
     "output_type": "execute_result"
    }
   ],
   "source": [
    "dists, indexes = neighbors.kneighbors([cc_film_vecs[id_to_ind[\"tt0322259\"]]])\n",
    "indexes"
   ]
  },
  {
   "cell_type": "code",
   "execution_count": 252,
   "id": "1af0585b",
   "metadata": {},
   "outputs": [
    {
     "data": {
      "text/plain": [
       "'tt0000574'"
      ]
     },
     "execution_count": 252,
     "metadata": {},
     "output_type": "execute_result"
    }
   ],
   "source": [
    "film_ids[10]"
   ]
  },
  {
   "cell_type": "code",
   "execution_count": 253,
   "id": "a601653d",
   "metadata": {},
   "outputs": [
    {
     "name": "stdout",
     "output_type": "stream",
     "text": [
      "2 Fast 2 Furious tt0322259\n",
      "L'ultimo appello tt0115862\n",
      "Soldato sotto la pioggia tt0057517\n",
      "Chang jiang tu tt5470448\n",
      "Chocolate City: Vegas tt5485482\n",
      "Settimo velo tt0038924\n",
      "Un sudista del Nord tt0040825\n",
      "Dropa tt1822395\n",
      "Just Pals tt0011358\n",
      "Homeless tt3140044\n"
     ]
    }
   ],
   "source": [
    "for index in indexes[0]:\n",
    "    print(id_to_name[cc_film_ids[index]], cc_film_ids[index])"
   ]
  },
  {
   "cell_type": "markdown",
   "id": "df3ef444",
   "metadata": {},
   "source": [
    "Interstellar\n",
    "Beacon77\n",
    "Gatti rossi in un labirinto di vetro\n",
    "Khadak\n",
    "A Perfect Man\n",
    "Heavy Times\n",
    "Pass Thru\n",
    "South from Granada\n",
    "Il silenzio\n",
    "Atto d'amore  \n",
    "\n",
    "\n"
   ]
  },
  {
   "cell_type": "code",
   "execution_count": null,
   "id": "8987294a",
   "metadata": {},
   "outputs": [],
   "source": []
  }
 ],
 "metadata": {
  "kernelspec": {
   "display_name": "Python 3",
   "language": "python",
   "name": "python3"
  },
  "language_info": {
   "codemirror_mode": {
    "name": "ipython",
    "version": 3
   },
   "file_extension": ".py",
   "mimetype": "text/x-python",
   "name": "python",
   "nbconvert_exporter": "python",
   "pygments_lexer": "ipython3",
   "version": "3.9.2"
  }
 },
 "nbformat": 4,
 "nbformat_minor": 5
}
