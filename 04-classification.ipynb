{
 "cells": [
  {
   "cell_type": "code",
   "execution_count": 3,
   "id": "5fefcfd6",
   "metadata": {},
   "outputs": [],
   "source": [
    "import pandas as pd\n",
    "import numpy as np"
   ]
  },
  {
   "cell_type": "code",
   "execution_count": 5,
   "id": "1f1d6dbd",
   "metadata": {},
   "outputs": [
    {
     "data": {
      "text/html": [
       "<div>\n",
       "<style scoped>\n",
       "    .dataframe tbody tr th:only-of-type {\n",
       "        vertical-align: middle;\n",
       "    }\n",
       "\n",
       "    .dataframe tbody tr th {\n",
       "        vertical-align: top;\n",
       "    }\n",
       "\n",
       "    .dataframe thead th {\n",
       "        text-align: right;\n",
       "    }\n",
       "</style>\n",
       "<table border=\"1\" class=\"dataframe\">\n",
       "  <thead>\n",
       "    <tr style=\"text-align: right;\">\n",
       "      <th></th>\n",
       "      <th>imdb_title_id</th>\n",
       "      <th>title</th>\n",
       "      <th>original_title</th>\n",
       "      <th>year</th>\n",
       "      <th>date_published</th>\n",
       "      <th>genre</th>\n",
       "      <th>duration</th>\n",
       "      <th>country</th>\n",
       "      <th>language</th>\n",
       "      <th>director</th>\n",
       "      <th>...</th>\n",
       "      <th>actors</th>\n",
       "      <th>description</th>\n",
       "      <th>avg_vote</th>\n",
       "      <th>votes</th>\n",
       "      <th>budget</th>\n",
       "      <th>usa_gross_income</th>\n",
       "      <th>worlwide_gross_income</th>\n",
       "      <th>metascore</th>\n",
       "      <th>reviews_from_users</th>\n",
       "      <th>reviews_from_critics</th>\n",
       "    </tr>\n",
       "  </thead>\n",
       "  <tbody>\n",
       "    <tr>\n",
       "      <th>0</th>\n",
       "      <td>tt0000009</td>\n",
       "      <td>Miss Jerry</td>\n",
       "      <td>Miss Jerry</td>\n",
       "      <td>1894</td>\n",
       "      <td>1894-10-09</td>\n",
       "      <td>Romance</td>\n",
       "      <td>45</td>\n",
       "      <td>USA</td>\n",
       "      <td>None</td>\n",
       "      <td>Alexander Black</td>\n",
       "      <td>...</td>\n",
       "      <td>Blanche Bayliss, William Courtenay, Chauncey D...</td>\n",
       "      <td>The adventures of a female reporter in the 1890s.</td>\n",
       "      <td>5.9</td>\n",
       "      <td>154</td>\n",
       "      <td>NaN</td>\n",
       "      <td>NaN</td>\n",
       "      <td>NaN</td>\n",
       "      <td>NaN</td>\n",
       "      <td>1.0</td>\n",
       "      <td>2.0</td>\n",
       "    </tr>\n",
       "    <tr>\n",
       "      <th>1</th>\n",
       "      <td>tt0000574</td>\n",
       "      <td>The Story of the Kelly Gang</td>\n",
       "      <td>The Story of the Kelly Gang</td>\n",
       "      <td>1906</td>\n",
       "      <td>1906-12-26</td>\n",
       "      <td>Biography, Crime, Drama</td>\n",
       "      <td>70</td>\n",
       "      <td>Australia</td>\n",
       "      <td>None</td>\n",
       "      <td>Charles Tait</td>\n",
       "      <td>...</td>\n",
       "      <td>Elizabeth Tait, John Tait, Norman Campbell, Be...</td>\n",
       "      <td>True story of notorious Australian outlaw Ned ...</td>\n",
       "      <td>6.1</td>\n",
       "      <td>589</td>\n",
       "      <td>$ 2250</td>\n",
       "      <td>NaN</td>\n",
       "      <td>NaN</td>\n",
       "      <td>NaN</td>\n",
       "      <td>7.0</td>\n",
       "      <td>7.0</td>\n",
       "    </tr>\n",
       "    <tr>\n",
       "      <th>2</th>\n",
       "      <td>tt0001892</td>\n",
       "      <td>Den sorte drøm</td>\n",
       "      <td>Den sorte drøm</td>\n",
       "      <td>1911</td>\n",
       "      <td>1911-08-19</td>\n",
       "      <td>Drama</td>\n",
       "      <td>53</td>\n",
       "      <td>Germany, Denmark</td>\n",
       "      <td>NaN</td>\n",
       "      <td>Urban Gad</td>\n",
       "      <td>...</td>\n",
       "      <td>Asta Nielsen, Valdemar Psilander, Gunnar Helse...</td>\n",
       "      <td>Two men of high rank are both wooing the beaut...</td>\n",
       "      <td>5.8</td>\n",
       "      <td>188</td>\n",
       "      <td>NaN</td>\n",
       "      <td>NaN</td>\n",
       "      <td>NaN</td>\n",
       "      <td>NaN</td>\n",
       "      <td>5.0</td>\n",
       "      <td>2.0</td>\n",
       "    </tr>\n",
       "    <tr>\n",
       "      <th>3</th>\n",
       "      <td>tt0002101</td>\n",
       "      <td>Cleopatra</td>\n",
       "      <td>Cleopatra</td>\n",
       "      <td>1912</td>\n",
       "      <td>1912-11-13</td>\n",
       "      <td>Drama, History</td>\n",
       "      <td>100</td>\n",
       "      <td>USA</td>\n",
       "      <td>English</td>\n",
       "      <td>Charles L. Gaskill</td>\n",
       "      <td>...</td>\n",
       "      <td>Helen Gardner, Pearl Sindelar, Miss Fielding, ...</td>\n",
       "      <td>The fabled queen of Egypt's affair with Roman ...</td>\n",
       "      <td>5.2</td>\n",
       "      <td>446</td>\n",
       "      <td>$ 45000</td>\n",
       "      <td>NaN</td>\n",
       "      <td>NaN</td>\n",
       "      <td>NaN</td>\n",
       "      <td>25.0</td>\n",
       "      <td>3.0</td>\n",
       "    </tr>\n",
       "    <tr>\n",
       "      <th>4</th>\n",
       "      <td>tt0002130</td>\n",
       "      <td>L'Inferno</td>\n",
       "      <td>L'Inferno</td>\n",
       "      <td>1911</td>\n",
       "      <td>1911-03-06</td>\n",
       "      <td>Adventure, Drama, Fantasy</td>\n",
       "      <td>68</td>\n",
       "      <td>Italy</td>\n",
       "      <td>Italian</td>\n",
       "      <td>Francesco Bertolini, Adolfo Padovan</td>\n",
       "      <td>...</td>\n",
       "      <td>Salvatore Papa, Arturo Pirovano, Giuseppe de L...</td>\n",
       "      <td>Loosely adapted from Dante's Divine Comedy and...</td>\n",
       "      <td>7.0</td>\n",
       "      <td>2237</td>\n",
       "      <td>NaN</td>\n",
       "      <td>NaN</td>\n",
       "      <td>NaN</td>\n",
       "      <td>NaN</td>\n",
       "      <td>31.0</td>\n",
       "      <td>14.0</td>\n",
       "    </tr>\n",
       "  </tbody>\n",
       "</table>\n",
       "<p>5 rows × 22 columns</p>\n",
       "</div>"
      ],
      "text/plain": [
       "  imdb_title_id                        title               original_title  \\\n",
       "0     tt0000009                   Miss Jerry                   Miss Jerry   \n",
       "1     tt0000574  The Story of the Kelly Gang  The Story of the Kelly Gang   \n",
       "2     tt0001892               Den sorte drøm               Den sorte drøm   \n",
       "3     tt0002101                    Cleopatra                    Cleopatra   \n",
       "4     tt0002130                    L'Inferno                    L'Inferno   \n",
       "\n",
       "   year date_published                      genre  duration           country  \\\n",
       "0  1894     1894-10-09                    Romance        45               USA   \n",
       "1  1906     1906-12-26    Biography, Crime, Drama        70         Australia   \n",
       "2  1911     1911-08-19                      Drama        53  Germany, Denmark   \n",
       "3  1912     1912-11-13             Drama, History       100               USA   \n",
       "4  1911     1911-03-06  Adventure, Drama, Fantasy        68             Italy   \n",
       "\n",
       "  language                             director  ...  \\\n",
       "0     None                      Alexander Black  ...   \n",
       "1     None                         Charles Tait  ...   \n",
       "2      NaN                            Urban Gad  ...   \n",
       "3  English                   Charles L. Gaskill  ...   \n",
       "4  Italian  Francesco Bertolini, Adolfo Padovan  ...   \n",
       "\n",
       "                                              actors  \\\n",
       "0  Blanche Bayliss, William Courtenay, Chauncey D...   \n",
       "1  Elizabeth Tait, John Tait, Norman Campbell, Be...   \n",
       "2  Asta Nielsen, Valdemar Psilander, Gunnar Helse...   \n",
       "3  Helen Gardner, Pearl Sindelar, Miss Fielding, ...   \n",
       "4  Salvatore Papa, Arturo Pirovano, Giuseppe de L...   \n",
       "\n",
       "                                         description avg_vote votes   budget  \\\n",
       "0  The adventures of a female reporter in the 1890s.      5.9   154      NaN   \n",
       "1  True story of notorious Australian outlaw Ned ...      6.1   589   $ 2250   \n",
       "2  Two men of high rank are both wooing the beaut...      5.8   188      NaN   \n",
       "3  The fabled queen of Egypt's affair with Roman ...      5.2   446  $ 45000   \n",
       "4  Loosely adapted from Dante's Divine Comedy and...      7.0  2237      NaN   \n",
       "\n",
       "   usa_gross_income worlwide_gross_income metascore reviews_from_users  \\\n",
       "0               NaN                   NaN       NaN                1.0   \n",
       "1               NaN                   NaN       NaN                7.0   \n",
       "2               NaN                   NaN       NaN                5.0   \n",
       "3               NaN                   NaN       NaN               25.0   \n",
       "4               NaN                   NaN       NaN               31.0   \n",
       "\n",
       "   reviews_from_critics  \n",
       "0                   2.0  \n",
       "1                   7.0  \n",
       "2                   2.0  \n",
       "3                   3.0  \n",
       "4                  14.0  \n",
       "\n",
       "[5 rows x 22 columns]"
      ]
     },
     "execution_count": 5,
     "metadata": {},
     "output_type": "execute_result"
    }
   ],
   "source": [
    "df = pd.read_csv(\"data/IMDb movies.csv\")\n",
    "df.head(5)"
   ]
  },
  {
   "cell_type": "code",
   "execution_count": 4,
   "id": "fb41be7d",
   "metadata": {},
   "outputs": [],
   "source": [
    "def read_vectors(file: str):\n",
    "    result = {}\n",
    "\n",
    "    with open(file, \"r\") as fd:\n",
    "        for line in fd:\n",
    "            line = line.strip()\n",
    "            film_id = line[:9]\n",
    "            vector = np.array(eval(line[11:]))\n",
    "            result[film_id] = vector\n",
    "\n",
    "    return result"
   ]
  },
  {
   "cell_type": "code",
   "execution_count": 13,
   "id": "8b00421f",
   "metadata": {},
   "outputs": [],
   "source": [
    "# Load film embeddings\n",
    "\n",
    "# fasttext description embeddings\n",
    "id_to_ft = read_vectors(\"fasttext-vecs\")\n",
    "\n",
    "# fasttext desciprions + PCA actors embeddings\n",
    "id_to_ftac = read_vectors(\"concated_vectors\")\n",
    "\n",
    "# PCA actors embeddings\n",
    "id_to_ac = read_vectors(\"pca_vectors\")"
   ]
  },
  {
   "cell_type": "code",
   "execution_count": 19,
   "id": "d64014b6",
   "metadata": {},
   "outputs": [
    {
     "name": "stdout",
     "output_type": "stream",
     "text": [
      "Films in dataset 82755\n"
     ]
    }
   ],
   "source": [
    "# Build dataset to run classification on\n",
    "from typing import Dict, Tuple\n",
    "\n",
    "common_film_keys = list(id_to_genre.keys() & id_to_ft.keys() & id_to_ftac.keys() & id_to_ac.keys())\n",
    "id_to_genre = {row[\"imdb_title_id\"]: row[\"genre\"].split(\",\")[0] for i, row in df.iterrows()}\n",
    "class_to_genre = list(set(id_to_genre.values()))\n",
    "genre_to_class = {k: v for v, k in enumerate(class_to_genre)}\n",
    "\n",
    "def get_x_y_from_vecs(vecs: Dict[str, np.array]) -> Tuple[np.array, np.array]:\n",
    "    vectors = []\n",
    "    classes = []\n",
    "    \n",
    "    for key in common_film_keys:\n",
    "        vectors.append(vecs[key])\n",
    "        classes.append(genre_to_class[id_to_genre[key]])\n",
    "    \n",
    "    return np.array(vectors), np.array(classes)\n",
    "\n",
    "print(f\"Films in dataset {len(common_film_keys)}\")"
   ]
  },
  {
   "cell_type": "code",
   "execution_count": 75,
   "id": "b2059837",
   "metadata": {},
   "outputs": [
    {
     "name": "stdout",
     "output_type": "stream",
     "text": [
      "X shape: (82755, 96)\n",
      "Class balance: Counter({'Drama': 25386, 'Comedy': 24297, 'Action': 12182, 'Crime': 5557, 'Horror': 5113, 'Adventure': 3599, 'Animation': 2108, 'Biography': 2067, 'Thriller': 1375, 'Romance': 767, 'Family': 638, 'Western': 617, 'Mystery': 593, 'Fantasy': 502, 'Sci-Fi': 417, 'Musical': 324, 'War': 107, 'History': 80, 'Music': 77, 'Film-Noir': 29, 'Sport': 16, 'Adult': 2, 'Documentary': 2})\n"
     ]
    }
   ],
   "source": [
    "from sklearn.model_selection import train_test_split\n",
    "from sklearn.metrics import accuracy_score, precision_score, recall_score, f1_score, roc_auc_score\n",
    "from collections import Counter\n",
    "\n",
    "\n",
    "print(f\"X shape: {X.shape}\")\n",
    "print(f\"Class balance: {Counter(id_to_genre.values())}\")\n",
    "\n",
    "def train_and_eval_model(model, X, y):\n",
    "    # Split 80% train, 20% test\n",
    "    X_train, X_test, y_train, y_test = train_test_split(X, y, test_size=0.2, random_state=42)\n",
    "    model.fit(X_train, y_train)\n",
    "\n",
    "    y_pred = model.predict(X_test)\n",
    "    y_pred_proba = model.predict_proba(X_test)\n",
    "\n",
    "    # Metrics\n",
    "    acc = accuracy_score(y_test, y_pred)\n",
    "    # Can be changed \n",
    "    precision = precision_score(y_test, y_pred, average=\"micro\")\n",
    "    recall = recall_score(y_test, y_pred, average=\"micro\")\n",
    "    f1 = f1_score(y_test, y_pred, average=\"micro\")\n",
    "#     Not working, fix if you want to\n",
    "#     roc_auc = roc_auc_score(y_test, y_pred_proba, multi_class=\"ovr\")\n",
    "\n",
    "    print(f\"{acc = }\")\n",
    "    print(f\"{precision= }\")\n",
    "    print(f\"{recall = }\")\n",
    "    print(f\"{f1 = }\")\n",
    "#     print(f\"{roc_auc = }\")"
   ]
  },
  {
   "cell_type": "code",
   "execution_count": 76,
   "id": "cca64c55",
   "metadata": {},
   "outputs": [
    {
     "name": "stdout",
     "output_type": "stream",
     "text": [
      "Decision tree with description fasttext\n",
      "acc = 0.21950335327170564\n",
      "precision= 0.21950335327170564\n",
      "recall = 0.21950335327170564\n",
      "f1 = 0.21950335327170564\n"
     ]
    }
   ],
   "source": [
    "from sklearn.tree import DecisionTreeClassifier\n",
    "\n",
    "print(\"Decision tree with description fasttext\")\n",
    "X, y = get_x_y_from_vecs(id_to_ft)\n",
    "model = DecisionTreeClassifier(random_state=42)\n",
    "train_and_eval_model(model, X, y)"
   ]
  },
  {
   "cell_type": "code",
   "execution_count": 77,
   "id": "0ff55377",
   "metadata": {},
   "outputs": [
    {
     "name": "stdout",
     "output_type": "stream",
     "text": [
      "Decision tree with actors PCA\n",
      "acc = 0.19062292308621837\n",
      "precision= 0.19062292308621837\n",
      "recall = 0.19062292308621837\n",
      "f1 = 0.19062292308621837\n"
     ]
    }
   ],
   "source": [
    "from sklearn.tree import DecisionTreeClassifier\n",
    "\n",
    "print(\"Decision tree with actors PCA\")\n",
    "X, y = get_x_y_from_vecs(id_to_ac)\n",
    "model = DecisionTreeClassifier(random_state=42)\n",
    "train_and_eval_model(model, X, y)"
   ]
  },
  {
   "cell_type": "code",
   "execution_count": 78,
   "id": "fd8aa3a1",
   "metadata": {},
   "outputs": [
    {
     "name": "stdout",
     "output_type": "stream",
     "text": [
      "Decision tree with actors PCA and description fasttext\n",
      "acc = 0.19062292308621837\n",
      "precision= 0.19062292308621837\n",
      "recall = 0.19062292308621837\n",
      "f1 = 0.19062292308621837\n"
     ]
    }
   ],
   "source": [
    "from sklearn.tree import DecisionTreeClassifier\n",
    "\n",
    "print(\"Decision tree with actors PCA and description fasttext\")\n",
    "X, y = get_x_y_from_vecs(id_to_ftac)\n",
    "model = DecisionTreeClassifier(random_state=42)\n",
    "train_and_eval_model(model, X, y)"
   ]
  },
  {
   "cell_type": "code",
   "execution_count": 80,
   "id": "bca3e864",
   "metadata": {},
   "outputs": [
    {
     "name": "stdout",
     "output_type": "stream",
     "text": [
      "KNeighbors classifier with description fasttext\n",
      "acc = 0.2751495377922784\n",
      "precision= 0.2751495377922784\n",
      "recall = 0.2751495377922784\n",
      "f1 = 0.2751495377922784\n"
     ]
    }
   ],
   "source": [
    "from sklearn.neighbors import KNeighborsClassifier\n",
    "\n",
    "print(\"KNeighbors classifier with description fasttext\")\n",
    "X, y = get_x_y_from_vecs(id_to_ft)\n",
    "model = KNeighborsClassifier(n_jobs=-1)\n",
    "train_and_eval_model(model, X, y)"
   ]
  },
  {
   "cell_type": "code",
   "execution_count": 81,
   "id": "5dc5d3c6",
   "metadata": {},
   "outputs": [
    {
     "name": "stdout",
     "output_type": "stream",
     "text": [
      "KNeighbors classifier with actors PCA\n",
      "acc = 0.2454836565766419\n",
      "precision= 0.2454836565766419\n",
      "recall = 0.2454836565766419\n",
      "f1 = 0.2454836565766419\n"
     ]
    }
   ],
   "source": [
    "from sklearn.neighbors import KNeighborsClassifier\n",
    "\n",
    "print(\"KNeighbors classifier with actors PCA\")\n",
    "X, y = get_x_y_from_vecs(id_to_ac)\n",
    "model = KNeighborsClassifier(n_jobs=-1)\n",
    "train_and_eval_model(model, X, y)"
   ]
  },
  {
   "cell_type": "code",
   "execution_count": 82,
   "id": "6d6e6db7",
   "metadata": {},
   "outputs": [
    {
     "name": "stdout",
     "output_type": "stream",
     "text": [
      "KNeighbors classifier with description fasttext and actors\n",
      "acc = 0.2454836565766419\n",
      "precision= 0.2454836565766419\n",
      "recall = 0.2454836565766419\n",
      "f1 = 0.2454836565766419\n"
     ]
    }
   ],
   "source": [
    "from sklearn.neighbors import KNeighborsClassifier\n",
    "\n",
    "print(\"KNeighbors classifier with description fasttext and actors\")\n",
    "X, y = get_x_y_from_vecs(id_to_ftac)\n",
    "model = KNeighborsClassifier(n_jobs=-1)\n",
    "train_and_eval_model(model, X, y)"
   ]
  },
  {
   "cell_type": "code",
   "execution_count": 83,
   "id": "aa09b8b2",
   "metadata": {},
   "outputs": [
    {
     "name": "stdout",
     "output_type": "stream",
     "text": [
      "Random forest classifier with actors PCA\n",
      "acc = 0.273336958491934\n",
      "precision= 0.273336958491934\n",
      "recall = 0.273336958491934\n",
      "f1 = 0.273336958491934\n"
     ]
    }
   ],
   "source": [
    "from sklearn.ensemble import RandomForestClassifier\n",
    "\n",
    "print(\"Random forest classifier with actors PCA\")\n",
    "X, y = get_x_y_from_vecs(id_to_ac)\n",
    "model = RandomForestClassifier(n_jobs=-1, random_state=42)\n",
    "train_and_eval_model(model, X, y)"
   ]
  },
  {
   "cell_type": "code",
   "execution_count": 84,
   "id": "7917ed12",
   "metadata": {},
   "outputs": [
    {
     "name": "stdout",
     "output_type": "stream",
     "text": [
      "Random forest classifier with description fasttext\n",
      "acc = 0.33291039816325296\n",
      "precision= 0.33291039816325296\n",
      "recall = 0.33291039816325296\n",
      "f1 = 0.33291039816325296\n"
     ]
    }
   ],
   "source": [
    "from sklearn.ensemble import RandomForestClassifier\n",
    "\n",
    "print(\"Random forest classifier with description fasttext\")\n",
    "X, y = get_x_y_from_vecs(id_to_ft)\n",
    "model = RandomForestClassifier(n_jobs=-1, random_state=42)\n",
    "train_and_eval_model(model, X, y)"
   ]
  },
  {
   "cell_type": "code",
   "execution_count": 85,
   "id": "adf9cae5",
   "metadata": {
    "scrolled": true
   },
   "outputs": [
    {
     "name": "stdout",
     "output_type": "stream",
     "text": [
      "Random forest classifier with description fasttext and fine-tuned parameters\n",
      "acc = 0.3350854933236662\n",
      "precision= 0.3350854933236662\n",
      "recall = 0.3350854933236662\n",
      "f1 = 0.3350854933236662\n"
     ]
    }
   ],
   "source": [
    "from sklearn.ensemble import RandomForestClassifier\n",
    "\n",
    "print(\"Random forest classifier with description fasttext and fine-tuned parameters\")\n",
    "X, y = get_x_y_from_vecs(id_to_ft)\n",
    "model = RandomForestClassifier(n_jobs=-1, random_state=42, max_depth=20, max_features=13, min_samples_leaf=7)\n",
    "train_and_eval_model(model, X, y)"
   ]
  },
  {
   "cell_type": "code",
   "execution_count": null,
   "id": "5e4c97c0",
   "metadata": {},
   "outputs": [
    {
     "name": "stdout",
     "output_type": "stream",
     "text": [
      "Fitting 5 folds for each of 64 candidates, totalling 320 fits\n"
     ]
    },
    {
     "name": "stderr",
     "output_type": "stream",
     "text": [
      "c:\\users\\vsmaxim8\\appdata\\local\\pypoetry\\cache\\virtualenvs\\data-analysis-2021-qihzqfsf-py3.9\\lib\\site-packages\\sklearn\\model_selection\\_split.py:666: UserWarning: The least populated class in y has only 2 members, which is less than n_splits=5.\n",
      "  warnings.warn((\"The least populated class in y has only %d\"\n"
     ]
    }
   ],
   "source": [
    "from sklearn.model_selection import GridSearchCV, StratifiedKFold, cross_val_score\n",
    "\n",
    "parameters = {\n",
    "    'max_features': [4, 7, 10, 13], \n",
    "    'min_samples_leaf': [1, 3, 5, 7], \n",
    "    'max_depth': [5, 10, 15, 20]\n",
    "}\n",
    "\n",
    "X, y = get_x_y_from_vecs(id_to_ft)\n",
    "skf = StratifiedKFold(n_splits=5, shuffle=True, random_state=42)\n",
    "model = RandomForestClassifier(n_estimators=100, random_state=42, n_jobs=-1)\n",
    "gcv = GridSearchCV(model, parameters, n_jobs=-1, cv=skf, verbose=1)\n",
    "gcv.fit(X, y)"
   ]
  },
  {
   "cell_type": "code",
   "execution_count": 65,
   "id": "0f1968d5",
   "metadata": {},
   "outputs": [
    {
     "data": {
      "text/plain": [
       "({'max_depth': 20, 'max_features': 13, 'min_samples_leaf': 7},\n",
       " 0.33925442571445835)"
      ]
     },
     "execution_count": 65,
     "metadata": {},
     "output_type": "execute_result"
    }
   ],
   "source": [
    "gcv.best_params_, gcv.best_score_"
   ]
  },
  {
   "cell_type": "code",
   "execution_count": null,
   "id": "4ae775dd",
   "metadata": {},
   "outputs": [],
   "source": []
  }
 ],
 "metadata": {
  "kernelspec": {
   "display_name": "Python 3",
   "language": "python",
   "name": "python3"
  },
  "language_info": {
   "codemirror_mode": {
    "name": "ipython",
    "version": 3
   },
   "file_extension": ".py",
   "mimetype": "text/x-python",
   "name": "python",
   "nbconvert_exporter": "python",
   "pygments_lexer": "ipython3",
   "version": "3.9.2"
  }
 },
 "nbformat": 4,
 "nbformat_minor": 5
}
